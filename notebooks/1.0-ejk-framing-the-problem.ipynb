{
 "cells": [
  {
   "cell_type": "markdown",
   "id": "9ff1cde4",
   "metadata": {},
   "source": [
    "# Project Method\n",
    "\n",
    "IMAGEM AQUI\n",
    "\n",
    "Using Aurélien Géron's [Hands-on Machine Learning with Scikit-learn, Keras & Tensorflow](https://www.amazon.com.br/Hands-Machine-Learning-Scikit-Learn-TensorFlow/dp/1492032646/ref=asc_df_1492032646/?tag=googleshopp00-20&linkCode=df0&hvadid=379733272930&hvpos=&hvnetw=g&hvrand=15073218787136773848&hvpone=&hvptwo=&hvqmt=&hvdev=c&hvdvcmdl=&hvlocint=&hvlocphy=1001637&hvtargid=pla-523968811896&psc=1) Data Science Project Guidelines:\n",
    "\n",
    "1. Frame the Problem/Look at the Big Picture.\n",
    "2. Get the data.\n",
    "3. Discover and visualize the data to gain insights.\n",
    "4. Prepare the data for Machine Learning algorithms.\n",
    "5. Select a Model and train it.\n",
    "6. Fine-tune your model.\n",
    "7. Present your solution.\n",
    "8. Launch, monitor, and maintain your system.\n",
    "\n",
    "The checklist from the book's appendix was also extremely handy.\n",
    "\n",
    "# 1. Framing the Problem\n",
    "\n",
    "#### Business Objective\n",
    "\n",
    "ADICIONAR O ARROBA DA PROFESSORA\n",
    "VER O GOL 3 MAIS PARA FRENTE\n",
    "\n",
    "1. AUC-ROC Score. This project is a deliverable from the [Let's Code Data Science Degree](https://letscode.com.br/python-e-dados). The instructor renatapink stated clearly: AUC-ROC score is the main goal here. The higher, the better.\n",
    "2. This is also a Learning-oriented Project, I intend to **experiment on various aspects of Machine Learning** - and have some fun.\n",
    "3. I will explore a way to measure monetary gains by using the model.\n",
    "\n",
    "#### Performance Measurement\n",
    "\n",
    "The train dataset will be splitted into **80% of a final train dataset** and **20% in a validation dataset**. The model that provides the best AUC-ROC in the validation dataset will be chosen - as it is the one with more chances of producing the best results in the test dataset.\n",
    "\n",
    "**Why AUC-ROC?**\n",
    "\n",
    "It is one of the most balanced and robust performance measurement indicator in classification problems. Simply put, the closer the AUC-ROC if from 100%, the better the model is at distinguishing between classes.\n",
    "\n",
    "#### How the solution will be used\n",
    "\n",
    "The output is a two-column .csv file, containing the **SK_ID_CURR**, which is the Loan ID, and **TARGET**, which is the probability that the client will have payment difficulties. This will be used to calculate the final AUC-ROC Score.\n",
    "\n",
    "#### Current Solution\n",
    "\n",
    "There is no baseline solution or current KPI. So, I am defining one. Our model must at least:\n",
    "1. Beat the flip of a coin to decide on lending the money or not.\n",
    "2. Beat a Linear Regression on the raw dataset.\n",
    "3. Beat The current accuracy (as a KPI - Total of Good Loans/Total of Loans) of the train dataset. Hence, improving profits.\n",
    "\n",
    "#### Problem Classification\n",
    "\n",
    "Classification Supervised Batch Learning. The model will learn offline from labeled instances using all the available data to classify new instances into two classes: good borrowers who will pay their debts and borrowers who will give the bank some headache.\n",
    "\n",
    "#### Initial Assumptions\n",
    "\n",
    "ADICIONAR"
   ]
  }
 ],
 "metadata": {
  "kernelspec": {
   "display_name": "Python 3.8.9 64-bit",
   "language": "python",
   "name": "python3"
  },
  "language_info": {
   "codemirror_mode": {
    "name": "ipython",
    "version": 3
   },
   "file_extension": ".py",
   "mimetype": "text/x-python",
   "name": "python",
   "nbconvert_exporter": "python",
   "pygments_lexer": "ipython3",
   "version": "3.8.9"
  },
  "vscode": {
   "interpreter": {
    "hash": "31f2aee4e71d21fbe5cf8b01ff0e069b9275f58929596ceb00d14d90e3e16cd6"
   }
  }
 },
 "nbformat": 4,
 "nbformat_minor": 5
}
