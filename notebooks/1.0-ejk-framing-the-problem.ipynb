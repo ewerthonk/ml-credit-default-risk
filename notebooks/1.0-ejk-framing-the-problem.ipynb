{
 "cells": [
  {
   "cell_type": "markdown",
   "id": "9ff1cde4",
   "metadata": {},
   "source": [
    "# 🧾 Table of Contents\n",
    "\n",
    "- [Project Method](#Project-Method)\n",
    "- [1. Framing the Problem](#1.-Framing-the-Problem)\n",
    "  - [Business Objective](#Business-Objective)\n",
    "  - [Performance Measurement](#Performance-Measurement)\n",
    "  - [How the solution will be used](#How-the-solution-will-be-used)\n",
    "  - [Current Solution](#Current-Solution)\n",
    "  - [Problem Classification](#Problem-Classification)\n",
    "\n",
    "*Next notebook: [2.0-ejk-getting-the-data](2.0-ejk-getting-the-data.ipynb).*\n",
    "\n",
    "# Project Method\n",
    "\n",
    "<img src=\"../references/ML-Process.png\" alt=\"Machine Learning Process\" style=\"height: 300px\"/>\n",
    "\n",
    "Using Aurélien Géron's [Hands-on Machine Learning with Scikit-learn, Keras & Tensorflow](https://www.amazon.com.br/Hands-Machine-Learning-Scikit-Learn-TensorFlow/dp/1492032646/ref=asc_df_1492032646/?tag=googleshopp00-20&linkCode=df0&hvadid=379733272930&hvpos=&hvnetw=g&hvrand=15073218787136773848&hvpone=&hvptwo=&hvqmt=&hvdev=c&hvdvcmdl=&hvlocint=&hvlocphy=1001637&hvtargid=pla-523968811896&psc=1) Data Science Project Guidelines:\n",
    "\n",
    "<img src=\"../references/ML-Book1.png\" alt=\"Machine Learning Book\" style=\"height: 200px\"/>\n",
    "\n",
    "1. Frame the Problem/Look at the Big Picture.\n",
    "2. Get the data.\n",
    "3. Explore and visualize the data to gain insights.\n",
    "4. Prepare the data for Machine Learning algorithms.\n",
    "5. Select a Model and train it.\n",
    "6. Fine-tune your model.\n",
    "7. Present your solution.\n",
    "8. Launch, monitor, and maintain your system.\n",
    "\n",
    "The checklist from the book's appendix was also extremely handy.\n",
    "\n",
    "# 1. Framing the Problem\n",
    "\n",
    "#### Business Problem\n",
    "\n",
    "[Home Credit](https://www.homecredit.net) is a multinational company with a simples business model: lend money. Generally, to customers with little or no credit history.\n",
    "\n",
    "One of the cornerstones of their business model is the **predictive power of the data they possess**. They are making some of this data available online aiming to unlock its full potential, *a.k.a. deliver value from it*. In our case, we got a sample of this data to apply the data science/machine learning process on it with the intention to extract value from it and practice our learnings.\n",
    "\n",
    "#### Business Objective\n",
    "\n",
    "1. ROC-AUC Score. This project is a deliverable from the [Let's Code Data Science Degree](https://letscode.com.br/python-e-dados) Machine Learning III module.\n",
    "2. This is also a Learning-oriented Project, I intend to **experiment on various aspects of Machine Learning** - and have some fun.\n",
    "\n",
    "#### Performance Measurement\n",
    "\n",
    "The train dataset will be splitted into **80% of a final train dataset** and **20% in a validation dataset**. The model that provides the best ROC-AUC in the validation dataset will be chosen - as it is the one with more chances of producing the best results in the test dataset.\n",
    "\n",
    "**Why ROC-AUC?**\n",
    "\n",
    "It is one of the most balanced and robust performance measurement indicator in classification problems. Simply put, the closer the ROC-AUC is from 100%, the better the model is at distinguishing between classes: in our case, distinguishing a good applicant to a laon from a bad one.\n",
    "\n",
    "#### How the solution will be used\n",
    "\n",
    "The output is a two-column .csv file, containing the **SK_ID_CURR**, which is the Loan ID, and **TARGET**, which is the probability that the applicant will have payment difficulties. This will be used to calculate the final ROC-AUC Score.\n",
    "\n",
    "#### Current Solution\n",
    "\n",
    "There is no baseline solution or current KPI. \n",
    "1. This challenge is derived from a Kaggle Competition. The top-scoring model achieved a ROC-AUC of 82% using the complete Dataset.\n",
    "2. A Dummy Classifier (without any learning/training) would achieve a ROC-AUC of 50% - this migh be used as a baseline.\n",
    "\n",
    "\n",
    "#### Problem Classification\n",
    "\n",
    "Classification Supervised Batch Learning. The model will learn offline from labeled instances using all the available data to classify new instances into two classes: good borrowers who will pay their debts and borrowers who will give the bank some headache.\n",
    "\n",
    "*Next notebook: [2.0-ejk-getting-the-data](2.0-ejk-getting-the-data.ipynb).*"
   ]
  }
 ],
 "metadata": {
  "kernelspec": {
   "display_name": "Python 3.10.4 ('ml-credit-default-risk')",
   "language": "python",
   "name": "python3"
  },
  "language_info": {
   "codemirror_mode": {
    "name": "ipython",
    "version": 3
   },
   "file_extension": ".py",
   "mimetype": "text/x-python",
   "name": "python",
   "nbconvert_exporter": "python",
   "pygments_lexer": "ipython3",
   "version": "3.10.4"
  },
  "vscode": {
   "interpreter": {
    "hash": "3fd4a2e76e456a8c620ba840fcf7a36c7ef4f6a09ca286181f55681464492348"
   }
  }
 },
 "nbformat": 4,
 "nbformat_minor": 5
}
