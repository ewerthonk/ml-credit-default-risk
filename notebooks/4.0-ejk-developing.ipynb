{
 "cells": [
  {
   "cell_type": "markdown",
   "metadata": {},
   "source": [
    "# 3. Exploring the Data\n",
    "\n",
    "Exploratory Data Analysis in the flagship dataset: **application_train.csv**. The goal of the analysis is to gain insights for a first iteration of data preparation."
   ]
  },
  {
   "cell_type": "markdown",
   "metadata": {},
   "source": [
    "## Preparing our toolbox 🧰"
   ]
  },
  {
   "cell_type": "code",
   "execution_count": 234,
   "metadata": {},
   "outputs": [
    {
     "name": "stdout",
     "output_type": "stream",
     "text": [
      "The autoreload extension is already loaded. To reload it, use:\n",
      "  %reload_ext autoreload\n"
     ]
    }
   ],
   "source": [
    "%load_ext autoreload\n",
    "%autoreload 2\n",
    "%matplotlib inline\n",
    "\n",
    "from src.data.explore_data import (\n",
    "        list_datasets, \n",
    "        describe_feature, \n",
    "        overview_data, \n",
    "        create_dataframe, \n",
    "        describe_features, \n",
    "        create_exploratory_dataset\n",
    ")\n",
    "import pandas as pd\n",
    "import numpy as np\n",
    "from sklearn.preprocessing import FunctionTransformer\n",
    "from sklearn.model_selection import train_test_split\n",
    "from imblearn import FunctionSampler\n",
    "from imblearn.pipeline import Pipeline as imbpipeline\n",
    "from feature_engine.selection import DropFeatures\n",
    "from sklearn.impute import SimpleImputer\n",
    "from sklearn.compose import ColumnTransformer"
   ]
  },
  {
   "cell_type": "code",
   "execution_count": 172,
   "metadata": {},
   "outputs": [],
   "source": [
    "df = create_dataframe('raw', 'application_train.csv')"
   ]
  },
  {
   "cell_type": "code",
   "execution_count": 235,
   "metadata": {},
   "outputs": [],
   "source": [
    "X = df.drop(labels=('TARGET'), axis=1).copy()\n",
    "y = df['TARGET'].copy()\n",
    "\n",
    "X_train, X_valid, y_train, y_valid = train_test_split(X, y, test_size=0.2, stratify=y, random_state=42,)"
   ]
  },
  {
   "cell_type": "code",
   "execution_count": 194,
   "metadata": {},
   "outputs": [],
   "source": [
    "# NaNPercentage higher than 30%\n",
    "features_to_drop = [\n",
    "    'OWN_CAR_AGE', \n",
    "    'OCCUPATION_TYPE', \n",
    "    'EXT_SOURCE_1',\n",
    "    'APARTMENTS_AVG',\n",
    "    'BASEMENTAREA_AVG',\n",
    "    'YEARS_BEGINEXPLUATATION_AVG',\n",
    "    'YEARS_BUILD_AVG',\n",
    "    'COMMONAREA_AVG',\n",
    "    'ELEVATORS_AVG',\n",
    "    'ENTRANCES_AVG',\n",
    "    'FLOORSMAX_AVG',\n",
    "    'FLOORSMIN_AVG',\n",
    "    'LANDAREA_AVG',\n",
    "    'LIVINGAPARTMENTS_AVG',\n",
    "    'LIVINGAREA_AVG',\n",
    "    'NONLIVINGAPARTMENTS_AVG',\n",
    "    'NONLIVINGAREA_AVG',\n",
    "    'APARTMENTS_MODE',\n",
    "    'BASEMENTAREA_MODE',\n",
    "    'YEARS_BEGINEXPLUATATION_MODE',\n",
    "    'YEARS_BUILD_MODE',\n",
    "    'COMMONAREA_MODE',\n",
    "    'ELEVATORS_MODE',\n",
    "    'ENTRANCES_MODE',\n",
    "    'FLOORSMAX_MODE',\n",
    "    'FLOORSMIN_MODE',\n",
    "    'LANDAREA_MODE',\n",
    "    'LIVINGAPARTMENTS_MODE',\n",
    "    'LIVINGAREA_MODE',\n",
    "    'NONLIVINGAPARTMENTS_MODE',\n",
    "    'NONLIVINGAREA_MODE',\n",
    "    'APARTMENTS_MEDI',\n",
    "    'BASEMENTAREA_MEDI',\n",
    "    'YEARS_BEGINEXPLUATATION_MEDI',\n",
    "    'YEARS_BUILD_MEDI',\n",
    "    'COMMONAREA_MEDI',\n",
    "    'ELEVATORS_MEDI',\n",
    "    'ENTRANCES_MEDI',\n",
    "    'FLOORSMAX_MEDI',\n",
    "    'FLOORSMIN_MEDI',\n",
    "    'LANDAREA_MEDI',\n",
    "    'LIVINGAPARTMENTS_MEDI',\n",
    "    'LIVINGAREA_MEDI',\n",
    "    'NONLIVINGAPARTMENTS_MEDI',\n",
    "    'NONLIVINGAREA_MEDI',\n",
    "    'FONDKAPREMONT_MODE',\n",
    "    'HOUSETYPE_MODE',\n",
    "    'TOTALAREA_MODE',\n",
    "    'WALLSMATERIAL_MODE',\n",
    "    'EMERGENCYSTATE_MODE'\n",
    "]"
   ]
  },
  {
   "cell_type": "code",
   "execution_count": 195,
   "metadata": {},
   "outputs": [
    {
     "name": "stdout",
     "output_type": "stream",
     "text": [
      "(196806, 121) (196806,)\n",
      "(196804, 71) (196804,)\n"
     ]
    }
   ],
   "source": [
    "def drop_hidden_string_nans(X, y):\n",
    "    indexes_for_removal = X[X['CODE_GENDER'] == 'XNA'].index\n",
    "    X = X[X['CODE_GENDER'] != 'XNA']\n",
    "    y.drop(index=indexes_for_removal, inplace=True)\n",
    "    return X, y\n",
    "\n",
    "drop_hidden_nans = FunctionSampler(func=drop_hidden_string_nans, validate=False)\n",
    "drop_high_nan_percentage = DropFeatures(features_to_drop)\n",
    "\n",
    "pipeline = imbpipeline(steps=[('oi', drop_hidden_nans), ('tudo', drop_high_nan_percentage)])\n",
    "print(X_train.shape,y_train.shape)\n",
    "X_train = pipeline.fit_transform(X_train, y_train)\n",
    "print(X_train.shape,y_train.shape)"
   ]
  },
  {
   "cell_type": "code",
   "execution_count": 197,
   "metadata": {},
   "outputs": [
    {
     "name": "stdout",
     "output_type": "stream",
     "text": [
      "(49202, 121) (49202,)\n",
      "(49202, 71) (49202,)\n"
     ]
    }
   ],
   "source": [
    "print(X_valid.shape,y_valid.shape)\n",
    "X_valid = pipeline.transform(X_valid)\n",
    "print(X_valid.shape,y_valid.shape)"
   ]
  },
  {
   "cell_type": "code",
   "execution_count": 243,
   "metadata": {},
   "outputs": [],
   "source": [
    "cols= ['CODE_GENDER']\n",
    "\n",
    "impute_hidden = SimpleImputer(missing_values='XNA', strategy='most_frequent')\n",
    "\n",
    "string_pipe = imbpipeline([('eai', impute_hidden)])\n",
    "\n",
    "preprocessor = ColumnTransformer([('str', string_pipe, cols)], remainder='passthrough')\n",
    "\n",
    "X_trained = X_train[['SK_ID_CURR', 'CODE_GENDER']].copy()\n",
    "X_trained = preprocessor.fit_transform(X_trained, y_train)"
   ]
  },
  {
   "cell_type": "code",
   "execution_count": 251,
   "metadata": {},
   "outputs": [
    {
     "data": {
      "text/plain": [
       "F    129395\n",
       "M     67411\n",
       "Name: 0, dtype: int64"
      ]
     },
     "execution_count": 251,
     "metadata": {},
     "output_type": "execute_result"
    }
   ],
   "source": [
    "oi = pd.DataFrame(X_trained)\n",
    "oi[0].value_counts()"
   ]
  },
  {
   "cell_type": "markdown",
   "metadata": {},
   "source": []
  }
 ],
 "metadata": {
  "kernelspec": {
   "display_name": "Python 3.10.4 ('ml-credit-default-risk')",
   "language": "python",
   "name": "python3"
  },
  "language_info": {
   "codemirror_mode": {
    "name": "ipython",
    "version": 3
   },
   "file_extension": ".py",
   "mimetype": "text/x-python",
   "name": "python",
   "nbconvert_exporter": "python",
   "pygments_lexer": "ipython3",
   "version": "3.10.4"
  },
  "orig_nbformat": 4,
  "vscode": {
   "interpreter": {
    "hash": "3fd4a2e76e456a8c620ba840fcf7a36c7ef4f6a09ca286181f55681464492348"
   }
  }
 },
 "nbformat": 4,
 "nbformat_minor": 2
}
