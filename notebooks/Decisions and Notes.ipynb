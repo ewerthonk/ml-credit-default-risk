{
 "cells": [
  {
   "cell_type": "markdown",
   "id": "96bce1f6",
   "metadata": {},
   "source": [
    "# 📋 Decisions\n",
    "\n",
    "## Framing the problem"
   ]
  },
  {
   "cell_type": "markdown",
   "id": "487f03e0",
   "metadata": {},
   "source": [
    "# ✍🏻 Notes\n",
    "\n",
    "## Framing the problem\n",
    "\n",
    "Good idea to use the Project Method Checklist"
   ]
  },
  {
   "cell_type": "markdown",
   "id": "65065dd1",
   "metadata": {},
   "source": [
    "# 🗺 Roadmap"
   ]
  }
 ],
 "metadata": {
  "kernelspec": {
   "display_name": "Python 3.8.9 64-bit",
   "language": "python",
   "name": "python3"
  },
  "language_info": {
   "codemirror_mode": {
    "name": "ipython",
    "version": 3
   },
   "file_extension": ".py",
   "mimetype": "text/x-python",
   "name": "python",
   "nbconvert_exporter": "python",
   "pygments_lexer": "ipython3",
   "version": "3.8.9"
  },
  "vscode": {
   "interpreter": {
    "hash": "31f2aee4e71d21fbe5cf8b01ff0e069b9275f58929596ceb00d14d90e3e16cd6"
   }
  }
 },
 "nbformat": 4,
 "nbformat_minor": 5
}
