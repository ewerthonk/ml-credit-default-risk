{
 "cells": [
  {
   "cell_type": "code",
   "execution_count": 95,
   "id": "4488d979",
   "metadata": {},
   "outputs": [],
   "source": [
    "import pandas as pd\n",
    "import numpy as np"
   ]
  },
  {
   "cell_type": "markdown",
   "id": "8ad2683d",
   "metadata": {},
   "source": [
    "# 🧐 Checking the \"Main\" Dataset\n",
    "---"
   ]
  },
  {
   "cell_type": "code",
   "execution_count": 96,
   "id": "d305a5ca",
   "metadata": {},
   "outputs": [],
   "source": [
    "df_applications = pd.read_csv('../data/external/application_train.csv')"
   ]
  },
  {
   "cell_type": "code",
   "execution_count": 101,
   "id": "2d387468",
   "metadata": {},
   "outputs": [
    {
     "data": {
      "text/html": [
       "<div>\n",
       "<style scoped>\n",
       "    .dataframe tbody tr th:only-of-type {\n",
       "        vertical-align: middle;\n",
       "    }\n",
       "\n",
       "    .dataframe tbody tr th {\n",
       "        vertical-align: top;\n",
       "    }\n",
       "\n",
       "    .dataframe thead th {\n",
       "        text-align: right;\n",
       "    }\n",
       "</style>\n",
       "<table border=\"1\" class=\"dataframe\">\n",
       "  <thead>\n",
       "    <tr style=\"text-align: right;\">\n",
       "      <th></th>\n",
       "      <th>SK_ID_CURR</th>\n",
       "      <th>TARGET</th>\n",
       "      <th>NAME_CONTRACT_TYPE</th>\n",
       "      <th>CODE_GENDER</th>\n",
       "      <th>FLAG_OWN_CAR</th>\n",
       "      <th>FLAG_OWN_REALTY</th>\n",
       "      <th>CNT_CHILDREN</th>\n",
       "      <th>AMT_INCOME_TOTAL</th>\n",
       "      <th>AMT_CREDIT</th>\n",
       "      <th>AMT_ANNUITY</th>\n",
       "      <th>...</th>\n",
       "      <th>FLAG_DOCUMENT_18</th>\n",
       "      <th>FLAG_DOCUMENT_19</th>\n",
       "      <th>FLAG_DOCUMENT_20</th>\n",
       "      <th>FLAG_DOCUMENT_21</th>\n",
       "      <th>AMT_REQ_CREDIT_BUREAU_HOUR</th>\n",
       "      <th>AMT_REQ_CREDIT_BUREAU_DAY</th>\n",
       "      <th>AMT_REQ_CREDIT_BUREAU_WEEK</th>\n",
       "      <th>AMT_REQ_CREDIT_BUREAU_MON</th>\n",
       "      <th>AMT_REQ_CREDIT_BUREAU_QRT</th>\n",
       "      <th>AMT_REQ_CREDIT_BUREAU_YEAR</th>\n",
       "    </tr>\n",
       "  </thead>\n",
       "  <tbody>\n",
       "    <tr>\n",
       "      <th>0</th>\n",
       "      <td>456162</td>\n",
       "      <td>0</td>\n",
       "      <td>Cash loans</td>\n",
       "      <td>F</td>\n",
       "      <td>N</td>\n",
       "      <td>N</td>\n",
       "      <td>0</td>\n",
       "      <td>112500.0</td>\n",
       "      <td>700830.0</td>\n",
       "      <td>22738.5</td>\n",
       "      <td>...</td>\n",
       "      <td>0</td>\n",
       "      <td>0</td>\n",
       "      <td>0</td>\n",
       "      <td>0</td>\n",
       "      <td>0.0</td>\n",
       "      <td>0.0</td>\n",
       "      <td>0.0</td>\n",
       "      <td>0.0</td>\n",
       "      <td>0.0</td>\n",
       "      <td>1.0</td>\n",
       "    </tr>\n",
       "    <tr>\n",
       "      <th>1</th>\n",
       "      <td>134978</td>\n",
       "      <td>0</td>\n",
       "      <td>Cash loans</td>\n",
       "      <td>F</td>\n",
       "      <td>N</td>\n",
       "      <td>N</td>\n",
       "      <td>0</td>\n",
       "      <td>90000.0</td>\n",
       "      <td>375322.5</td>\n",
       "      <td>14422.5</td>\n",
       "      <td>...</td>\n",
       "      <td>0</td>\n",
       "      <td>0</td>\n",
       "      <td>0</td>\n",
       "      <td>0</td>\n",
       "      <td>0.0</td>\n",
       "      <td>0.0</td>\n",
       "      <td>0.0</td>\n",
       "      <td>1.0</td>\n",
       "      <td>0.0</td>\n",
       "      <td>3.0</td>\n",
       "    </tr>\n",
       "    <tr>\n",
       "      <th>2</th>\n",
       "      <td>318952</td>\n",
       "      <td>0</td>\n",
       "      <td>Cash loans</td>\n",
       "      <td>M</td>\n",
       "      <td>Y</td>\n",
       "      <td>N</td>\n",
       "      <td>0</td>\n",
       "      <td>180000.0</td>\n",
       "      <td>544491.0</td>\n",
       "      <td>16047.0</td>\n",
       "      <td>...</td>\n",
       "      <td>0</td>\n",
       "      <td>0</td>\n",
       "      <td>0</td>\n",
       "      <td>0</td>\n",
       "      <td>0.0</td>\n",
       "      <td>0.0</td>\n",
       "      <td>0.0</td>\n",
       "      <td>1.0</td>\n",
       "      <td>1.0</td>\n",
       "      <td>3.0</td>\n",
       "    </tr>\n",
       "    <tr>\n",
       "      <th>3</th>\n",
       "      <td>361264</td>\n",
       "      <td>0</td>\n",
       "      <td>Cash loans</td>\n",
       "      <td>F</td>\n",
       "      <td>N</td>\n",
       "      <td>Y</td>\n",
       "      <td>0</td>\n",
       "      <td>270000.0</td>\n",
       "      <td>814041.0</td>\n",
       "      <td>28971.0</td>\n",
       "      <td>...</td>\n",
       "      <td>0</td>\n",
       "      <td>0</td>\n",
       "      <td>0</td>\n",
       "      <td>0</td>\n",
       "      <td>0.0</td>\n",
       "      <td>0.0</td>\n",
       "      <td>0.0</td>\n",
       "      <td>0.0</td>\n",
       "      <td>1.0</td>\n",
       "      <td>4.0</td>\n",
       "    </tr>\n",
       "    <tr>\n",
       "      <th>4</th>\n",
       "      <td>260639</td>\n",
       "      <td>0</td>\n",
       "      <td>Cash loans</td>\n",
       "      <td>F</td>\n",
       "      <td>N</td>\n",
       "      <td>Y</td>\n",
       "      <td>0</td>\n",
       "      <td>144000.0</td>\n",
       "      <td>675000.0</td>\n",
       "      <td>21906.0</td>\n",
       "      <td>...</td>\n",
       "      <td>0</td>\n",
       "      <td>0</td>\n",
       "      <td>0</td>\n",
       "      <td>0</td>\n",
       "      <td>0.0</td>\n",
       "      <td>0.0</td>\n",
       "      <td>0.0</td>\n",
       "      <td>10.0</td>\n",
       "      <td>0.0</td>\n",
       "      <td>0.0</td>\n",
       "    </tr>\n",
       "  </tbody>\n",
       "</table>\n",
       "<p>5 rows × 122 columns</p>\n",
       "</div>"
      ],
      "text/plain": [
       "   SK_ID_CURR  TARGET NAME_CONTRACT_TYPE CODE_GENDER FLAG_OWN_CAR  \\\n",
       "0      456162       0         Cash loans           F            N   \n",
       "1      134978       0         Cash loans           F            N   \n",
       "2      318952       0         Cash loans           M            Y   \n",
       "3      361264       0         Cash loans           F            N   \n",
       "4      260639       0         Cash loans           F            N   \n",
       "\n",
       "  FLAG_OWN_REALTY  CNT_CHILDREN  AMT_INCOME_TOTAL  AMT_CREDIT  AMT_ANNUITY  \\\n",
       "0               N             0          112500.0    700830.0      22738.5   \n",
       "1               N             0           90000.0    375322.5      14422.5   \n",
       "2               N             0          180000.0    544491.0      16047.0   \n",
       "3               Y             0          270000.0    814041.0      28971.0   \n",
       "4               Y             0          144000.0    675000.0      21906.0   \n",
       "\n",
       "   ...  FLAG_DOCUMENT_18 FLAG_DOCUMENT_19 FLAG_DOCUMENT_20 FLAG_DOCUMENT_21  \\\n",
       "0  ...                 0                0                0                0   \n",
       "1  ...                 0                0                0                0   \n",
       "2  ...                 0                0                0                0   \n",
       "3  ...                 0                0                0                0   \n",
       "4  ...                 0                0                0                0   \n",
       "\n",
       "  AMT_REQ_CREDIT_BUREAU_HOUR AMT_REQ_CREDIT_BUREAU_DAY  \\\n",
       "0                        0.0                       0.0   \n",
       "1                        0.0                       0.0   \n",
       "2                        0.0                       0.0   \n",
       "3                        0.0                       0.0   \n",
       "4                        0.0                       0.0   \n",
       "\n",
       "   AMT_REQ_CREDIT_BUREAU_WEEK  AMT_REQ_CREDIT_BUREAU_MON  \\\n",
       "0                         0.0                        0.0   \n",
       "1                         0.0                        1.0   \n",
       "2                         0.0                        1.0   \n",
       "3                         0.0                        0.0   \n",
       "4                         0.0                       10.0   \n",
       "\n",
       "   AMT_REQ_CREDIT_BUREAU_QRT  AMT_REQ_CREDIT_BUREAU_YEAR  \n",
       "0                        0.0                         1.0  \n",
       "1                        0.0                         3.0  \n",
       "2                        1.0                         3.0  \n",
       "3                        1.0                         4.0  \n",
       "4                        0.0                         0.0  \n",
       "\n",
       "[5 rows x 122 columns]"
      ]
     },
     "execution_count": 101,
     "metadata": {},
     "output_type": "execute_result"
    }
   ],
   "source": [
    "df_applications.head()"
   ]
  },
  {
   "cell_type": "code",
   "execution_count": 102,
   "id": "272a9783",
   "metadata": {},
   "outputs": [
    {
     "name": "stdout",
     "output_type": "stream",
     "text": [
      "<class 'pandas.core.frame.DataFrame'>\n",
      "RangeIndex: 246008 entries, 0 to 246007\n",
      "Columns: 122 entries, SK_ID_CURR to AMT_REQ_CREDIT_BUREAU_YEAR\n",
      "dtypes: float64(65), int64(41), object(16)\n",
      "memory usage: 229.0+ MB\n"
     ]
    }
   ],
   "source": [
    "df_applications.info()"
   ]
  },
  {
   "cell_type": "markdown",
   "id": "dff32eea",
   "metadata": {},
   "source": [
    "There are **246k+** records in the dataset and **122** columns. Far too many columns to check with ```head()``` function. A better way to get more familiar with the dataset is to display ```n``` columns at a time and note highlights."
   ]
  },
  {
   "cell_type": "code",
   "execution_count": 112,
   "id": "356d388c",
   "metadata": {
    "scrolled": false
   },
   "outputs": [
    {
     "data": {
      "text/html": [
       "<style type=\"text/css\">\n",
       "</style>\n",
       "<table id=\"T_c5232\">\n",
       "  <thead>\n",
       "    <tr>\n",
       "      <th id=\"T_c5232_level0_col0\" class=\"col_heading level0 col0\" >SK_ID_CURR</th>\n",
       "      <th id=\"T_c5232_level0_col1\" class=\"col_heading level0 col1\" >TARGET</th>\n",
       "      <th id=\"T_c5232_level0_col2\" class=\"col_heading level0 col2\" >NAME_CONTRACT_TYPE</th>\n",
       "      <th id=\"T_c5232_level0_col3\" class=\"col_heading level0 col3\" >CODE_GENDER</th>\n",
       "      <th id=\"T_c5232_level0_col4\" class=\"col_heading level0 col4\" >FLAG_OWN_CAR</th>\n",
       "      <th id=\"T_c5232_level0_col5\" class=\"col_heading level0 col5\" >FLAG_OWN_REALTY</th>\n",
       "      <th id=\"T_c5232_level0_col6\" class=\"col_heading level0 col6\" >CNT_CHILDREN</th>\n",
       "    </tr>\n",
       "  </thead>\n",
       "  <tbody>\n",
       "    <tr>\n",
       "      <td id=\"T_c5232_row0_col0\" class=\"data row0 col0\" >456162</td>\n",
       "      <td id=\"T_c5232_row0_col1\" class=\"data row0 col1\" >0</td>\n",
       "      <td id=\"T_c5232_row0_col2\" class=\"data row0 col2\" >Cash loans</td>\n",
       "      <td id=\"T_c5232_row0_col3\" class=\"data row0 col3\" >F</td>\n",
       "      <td id=\"T_c5232_row0_col4\" class=\"data row0 col4\" >N</td>\n",
       "      <td id=\"T_c5232_row0_col5\" class=\"data row0 col5\" >N</td>\n",
       "      <td id=\"T_c5232_row0_col6\" class=\"data row0 col6\" >0</td>\n",
       "    </tr>\n",
       "    <tr>\n",
       "      <td id=\"T_c5232_row1_col0\" class=\"data row1 col0\" >134978</td>\n",
       "      <td id=\"T_c5232_row1_col1\" class=\"data row1 col1\" >0</td>\n",
       "      <td id=\"T_c5232_row1_col2\" class=\"data row1 col2\" >Cash loans</td>\n",
       "      <td id=\"T_c5232_row1_col3\" class=\"data row1 col3\" >F</td>\n",
       "      <td id=\"T_c5232_row1_col4\" class=\"data row1 col4\" >N</td>\n",
       "      <td id=\"T_c5232_row1_col5\" class=\"data row1 col5\" >N</td>\n",
       "      <td id=\"T_c5232_row1_col6\" class=\"data row1 col6\" >0</td>\n",
       "    </tr>\n",
       "    <tr>\n",
       "      <td id=\"T_c5232_row2_col0\" class=\"data row2 col0\" >318952</td>\n",
       "      <td id=\"T_c5232_row2_col1\" class=\"data row2 col1\" >0</td>\n",
       "      <td id=\"T_c5232_row2_col2\" class=\"data row2 col2\" >Cash loans</td>\n",
       "      <td id=\"T_c5232_row2_col3\" class=\"data row2 col3\" >M</td>\n",
       "      <td id=\"T_c5232_row2_col4\" class=\"data row2 col4\" >Y</td>\n",
       "      <td id=\"T_c5232_row2_col5\" class=\"data row2 col5\" >N</td>\n",
       "      <td id=\"T_c5232_row2_col6\" class=\"data row2 col6\" >0</td>\n",
       "    </tr>\n",
       "    <tr>\n",
       "      <td id=\"T_c5232_row3_col0\" class=\"data row3 col0\" >361264</td>\n",
       "      <td id=\"T_c5232_row3_col1\" class=\"data row3 col1\" >0</td>\n",
       "      <td id=\"T_c5232_row3_col2\" class=\"data row3 col2\" >Cash loans</td>\n",
       "      <td id=\"T_c5232_row3_col3\" class=\"data row3 col3\" >F</td>\n",
       "      <td id=\"T_c5232_row3_col4\" class=\"data row3 col4\" >N</td>\n",
       "      <td id=\"T_c5232_row3_col5\" class=\"data row3 col5\" >Y</td>\n",
       "      <td id=\"T_c5232_row3_col6\" class=\"data row3 col6\" >0</td>\n",
       "    </tr>\n",
       "    <tr>\n",
       "      <td id=\"T_c5232_row4_col0\" class=\"data row4 col0\" >260639</td>\n",
       "      <td id=\"T_c5232_row4_col1\" class=\"data row4 col1\" >0</td>\n",
       "      <td id=\"T_c5232_row4_col2\" class=\"data row4 col2\" >Cash loans</td>\n",
       "      <td id=\"T_c5232_row4_col3\" class=\"data row4 col3\" >F</td>\n",
       "      <td id=\"T_c5232_row4_col4\" class=\"data row4 col4\" >N</td>\n",
       "      <td id=\"T_c5232_row4_col5\" class=\"data row4 col5\" >Y</td>\n",
       "      <td id=\"T_c5232_row4_col6\" class=\"data row4 col6\" >0</td>\n",
       "    </tr>\n",
       "  </tbody>\n",
       "</table>\n"
      ],
      "text/plain": [
       "<pandas.io.formats.style.Styler at 0x7f97ad499990>"
      ]
     },
     "metadata": {},
     "output_type": "display_data"
    }
   ],
   "source": [
    "# Creating an Iterator to display 7 columns at a time\n",
    "iterator = iter(list(range(0,122+1)))\n",
    "\n",
    "display(df.iloc[:5,[next(iterator) for i in range(7)]].style.hide(axis='index'))"
   ]
  },
  {
   "cell_type": "markdown",
   "id": "84c52350",
   "metadata": {},
   "source": [
    "**Further Checking**\n",
    "- Are there any duplicated IDs?\n",
    "- Which contract types are present in the dataset?"
   ]
  },
  {
   "cell_type": "code",
   "execution_count": 125,
   "id": "e1d293b3",
   "metadata": {},
   "outputs": [
    {
     "name": "stdout",
     "output_type": "stream",
     "text": [
      "There are 246008 unique IDs in the Datasetand 246008 records.\n",
      "The types of contract are: ['Cash loans' 'Revolving loans']\n"
     ]
    }
   ],
   "source": [
    "print(f'There are {df_applications[\"SK_ID_CURR\"].nunique()} unique IDs in the Dataset '\n",
    "      f'and {len(df_applications[\"SK_ID_CURR\"])} records.\\n'\n",
    "      f'The types of contract are: {df_applications[\"NAME_CONTRACT_TYPE\"].unique()}')"
   ]
  },
  {
   "cell_type": "markdown",
   "id": "1ad11531",
   "metadata": {},
   "source": [
    "**Highlights**\n",
    "\n",
    "Revolving Loans are not very common in Brazil 🇧🇷. So, I researched a little bit more about feature ```NAME_CONTRACT_TYPE```. Found good information in these link: \n",
    "- https://www.youtube.com/watch?v=NXUZNJRMxCQ\n",
    "-https://www.investopedia.com/terms/r/revolving-loan-facility.asp."
   ]
  },
  {
   "cell_type": "code",
   "execution_count": 113,
   "id": "3b4c844e",
   "metadata": {},
   "outputs": [
    {
     "data": {
      "text/html": [
       "<style type=\"text/css\">\n",
       "</style>\n",
       "<table id=\"T_6997b\">\n",
       "  <thead>\n",
       "    <tr>\n",
       "      <th id=\"T_6997b_level0_col0\" class=\"col_heading level0 col0\" >AMT_INCOME_TOTAL</th>\n",
       "      <th id=\"T_6997b_level0_col1\" class=\"col_heading level0 col1\" >AMT_CREDIT</th>\n",
       "      <th id=\"T_6997b_level0_col2\" class=\"col_heading level0 col2\" >AMT_ANNUITY</th>\n",
       "      <th id=\"T_6997b_level0_col3\" class=\"col_heading level0 col3\" >AMT_GOODS_PRICE</th>\n",
       "      <th id=\"T_6997b_level0_col4\" class=\"col_heading level0 col4\" >NAME_TYPE_SUITE</th>\n",
       "      <th id=\"T_6997b_level0_col5\" class=\"col_heading level0 col5\" >NAME_INCOME_TYPE</th>\n",
       "      <th id=\"T_6997b_level0_col6\" class=\"col_heading level0 col6\" >NAME_EDUCATION_TYPE</th>\n",
       "    </tr>\n",
       "  </thead>\n",
       "  <tbody>\n",
       "    <tr>\n",
       "      <td id=\"T_6997b_row0_col0\" class=\"data row0 col0\" >112500.000000</td>\n",
       "      <td id=\"T_6997b_row0_col1\" class=\"data row0 col1\" >700830.000000</td>\n",
       "      <td id=\"T_6997b_row0_col2\" class=\"data row0 col2\" >22738.500000</td>\n",
       "      <td id=\"T_6997b_row0_col3\" class=\"data row0 col3\" >585000.000000</td>\n",
       "      <td id=\"T_6997b_row0_col4\" class=\"data row0 col4\" >Unaccompanied</td>\n",
       "      <td id=\"T_6997b_row0_col5\" class=\"data row0 col5\" >Working</td>\n",
       "      <td id=\"T_6997b_row0_col6\" class=\"data row0 col6\" >Incomplete higher</td>\n",
       "    </tr>\n",
       "    <tr>\n",
       "      <td id=\"T_6997b_row1_col0\" class=\"data row1 col0\" >90000.000000</td>\n",
       "      <td id=\"T_6997b_row1_col1\" class=\"data row1 col1\" >375322.500000</td>\n",
       "      <td id=\"T_6997b_row1_col2\" class=\"data row1 col2\" >14422.500000</td>\n",
       "      <td id=\"T_6997b_row1_col3\" class=\"data row1 col3\" >324000.000000</td>\n",
       "      <td id=\"T_6997b_row1_col4\" class=\"data row1 col4\" >Unaccompanied</td>\n",
       "      <td id=\"T_6997b_row1_col5\" class=\"data row1 col5\" >Commercial associate</td>\n",
       "      <td id=\"T_6997b_row1_col6\" class=\"data row1 col6\" >Secondary / secondary special</td>\n",
       "    </tr>\n",
       "    <tr>\n",
       "      <td id=\"T_6997b_row2_col0\" class=\"data row2 col0\" >180000.000000</td>\n",
       "      <td id=\"T_6997b_row2_col1\" class=\"data row2 col1\" >544491.000000</td>\n",
       "      <td id=\"T_6997b_row2_col2\" class=\"data row2 col2\" >16047.000000</td>\n",
       "      <td id=\"T_6997b_row2_col3\" class=\"data row2 col3\" >454500.000000</td>\n",
       "      <td id=\"T_6997b_row2_col4\" class=\"data row2 col4\" >Unaccompanied</td>\n",
       "      <td id=\"T_6997b_row2_col5\" class=\"data row2 col5\" >Working</td>\n",
       "      <td id=\"T_6997b_row2_col6\" class=\"data row2 col6\" >Secondary / secondary special</td>\n",
       "    </tr>\n",
       "    <tr>\n",
       "      <td id=\"T_6997b_row3_col0\" class=\"data row3 col0\" >270000.000000</td>\n",
       "      <td id=\"T_6997b_row3_col1\" class=\"data row3 col1\" >814041.000000</td>\n",
       "      <td id=\"T_6997b_row3_col2\" class=\"data row3 col2\" >28971.000000</td>\n",
       "      <td id=\"T_6997b_row3_col3\" class=\"data row3 col3\" >679500.000000</td>\n",
       "      <td id=\"T_6997b_row3_col4\" class=\"data row3 col4\" >Unaccompanied</td>\n",
       "      <td id=\"T_6997b_row3_col5\" class=\"data row3 col5\" >Pensioner</td>\n",
       "      <td id=\"T_6997b_row3_col6\" class=\"data row3 col6\" >Secondary / secondary special</td>\n",
       "    </tr>\n",
       "    <tr>\n",
       "      <td id=\"T_6997b_row4_col0\" class=\"data row4 col0\" >144000.000000</td>\n",
       "      <td id=\"T_6997b_row4_col1\" class=\"data row4 col1\" >675000.000000</td>\n",
       "      <td id=\"T_6997b_row4_col2\" class=\"data row4 col2\" >21906.000000</td>\n",
       "      <td id=\"T_6997b_row4_col3\" class=\"data row4 col3\" >675000.000000</td>\n",
       "      <td id=\"T_6997b_row4_col4\" class=\"data row4 col4\" >Unaccompanied</td>\n",
       "      <td id=\"T_6997b_row4_col5\" class=\"data row4 col5\" >Working</td>\n",
       "      <td id=\"T_6997b_row4_col6\" class=\"data row4 col6\" >Secondary / secondary special</td>\n",
       "    </tr>\n",
       "  </tbody>\n",
       "</table>\n"
      ],
      "text/plain": [
       "<pandas.io.formats.style.Styler at 0x7f99d8606800>"
      ]
     },
     "metadata": {},
     "output_type": "display_data"
    }
   ],
   "source": [
    "df.iloc[:5,[next(iterator) for i in range(7)]].style.hide(axis='index')"
   ]
  },
  {
   "cell_type": "markdown",
   "id": "0d9e081f",
   "metadata": {},
   "source": [
    "**Highlights**\n",
    "\n",
    "- ```NAME_EDUCATION_TYPE``` may be converted to an Ordinal Numerical feature."
   ]
  },
  {
   "cell_type": "code",
   "execution_count": 131,
   "id": "85f04532",
   "metadata": {
    "scrolled": false
   },
   "outputs": [
    {
     "data": {
      "text/html": [
       "<style type=\"text/css\">\n",
       "</style>\n",
       "<table id=\"T_6f559\">\n",
       "  <thead>\n",
       "    <tr>\n",
       "      <th id=\"T_6f559_level0_col0\" class=\"col_heading level0 col0\" >NAME_FAMILY_STATUS</th>\n",
       "      <th id=\"T_6f559_level0_col1\" class=\"col_heading level0 col1\" >NAME_HOUSING_TYPE</th>\n",
       "      <th id=\"T_6f559_level0_col2\" class=\"col_heading level0 col2\" >REGION_POPULATION_RELATIVE</th>\n",
       "      <th id=\"T_6f559_level0_col3\" class=\"col_heading level0 col3\" >DAYS_BIRTH</th>\n",
       "      <th id=\"T_6f559_level0_col4\" class=\"col_heading level0 col4\" >DAYS_EMPLOYED</th>\n",
       "      <th id=\"T_6f559_level0_col5\" class=\"col_heading level0 col5\" >DAYS_REGISTRATION</th>\n",
       "      <th id=\"T_6f559_level0_col6\" class=\"col_heading level0 col6\" >DAYS_ID_PUBLISH</th>\n",
       "    </tr>\n",
       "  </thead>\n",
       "  <tbody>\n",
       "    <tr>\n",
       "      <td id=\"T_6f559_row0_col0\" class=\"data row0 col0\" >Single / not married</td>\n",
       "      <td id=\"T_6f559_row0_col1\" class=\"data row0 col1\" >House / apartment</td>\n",
       "      <td id=\"T_6f559_row0_col2\" class=\"data row0 col2\" >0.019689</td>\n",
       "      <td id=\"T_6f559_row0_col3\" class=\"data row0 col3\" >-8676</td>\n",
       "      <td id=\"T_6f559_row0_col4\" class=\"data row0 col4\" >-813</td>\n",
       "      <td id=\"T_6f559_row0_col5\" class=\"data row0 col5\" >-4163.000000</td>\n",
       "      <td id=\"T_6f559_row0_col6\" class=\"data row0 col6\" >-1363</td>\n",
       "    </tr>\n",
       "    <tr>\n",
       "      <td id=\"T_6f559_row1_col0\" class=\"data row1 col0\" >Married</td>\n",
       "      <td id=\"T_6f559_row1_col1\" class=\"data row1 col1\" >House / apartment</td>\n",
       "      <td id=\"T_6f559_row1_col2\" class=\"data row1 col2\" >0.025164</td>\n",
       "      <td id=\"T_6f559_row1_col3\" class=\"data row1 col3\" >-13583</td>\n",
       "      <td id=\"T_6f559_row1_col4\" class=\"data row1 col4\" >-223</td>\n",
       "      <td id=\"T_6f559_row1_col5\" class=\"data row1 col5\" >-3554.000000</td>\n",
       "      <td id=\"T_6f559_row1_col6\" class=\"data row1 col6\" >-3287</td>\n",
       "    </tr>\n",
       "    <tr>\n",
       "      <td id=\"T_6f559_row2_col0\" class=\"data row2 col0\" >Married</td>\n",
       "      <td id=\"T_6f559_row2_col1\" class=\"data row2 col1\" >House / apartment</td>\n",
       "      <td id=\"T_6f559_row2_col2\" class=\"data row2 col2\" >0.035792</td>\n",
       "      <td id=\"T_6f559_row2_col3\" class=\"data row2 col3\" >-13993</td>\n",
       "      <td id=\"T_6f559_row2_col4\" class=\"data row2 col4\" >-6202</td>\n",
       "      <td id=\"T_6f559_row2_col5\" class=\"data row2 col5\" >-7971.000000</td>\n",
       "      <td id=\"T_6f559_row2_col6\" class=\"data row2 col6\" >-4175</td>\n",
       "    </tr>\n",
       "    <tr>\n",
       "      <td id=\"T_6f559_row3_col0\" class=\"data row3 col0\" >Married</td>\n",
       "      <td id=\"T_6f559_row3_col1\" class=\"data row3 col1\" >House / apartment</td>\n",
       "      <td id=\"T_6f559_row3_col2\" class=\"data row3 col2\" >0.046220</td>\n",
       "      <td id=\"T_6f559_row3_col3\" class=\"data row3 col3\" >-22425</td>\n",
       "      <td id=\"T_6f559_row3_col4\" class=\"data row3 col4\" >365243</td>\n",
       "      <td id=\"T_6f559_row3_col5\" class=\"data row3 col5\" >-11805.000000</td>\n",
       "      <td id=\"T_6f559_row3_col6\" class=\"data row3 col6\" >-1732</td>\n",
       "    </tr>\n",
       "    <tr>\n",
       "      <td id=\"T_6f559_row4_col0\" class=\"data row4 col0\" >Separated</td>\n",
       "      <td id=\"T_6f559_row4_col1\" class=\"data row4 col1\" >House / apartment</td>\n",
       "      <td id=\"T_6f559_row4_col2\" class=\"data row4 col2\" >0.026392</td>\n",
       "      <td id=\"T_6f559_row4_col3\" class=\"data row4 col3\" >-18839</td>\n",
       "      <td id=\"T_6f559_row4_col4\" class=\"data row4 col4\" >-2763</td>\n",
       "      <td id=\"T_6f559_row4_col5\" class=\"data row4 col5\" >-5069.000000</td>\n",
       "      <td id=\"T_6f559_row4_col6\" class=\"data row4 col6\" >-2381</td>\n",
       "    </tr>\n",
       "  </tbody>\n",
       "</table>\n"
      ],
      "text/plain": [
       "<pandas.io.formats.style.Styler at 0x7f99d86df820>"
      ]
     },
     "metadata": {},
     "output_type": "display_data"
    }
   ],
   "source": [
    "df.iloc[:5,[next(iterator) for i in range(7)]].style.hide(axis='index')"
   ]
  },
  {
   "cell_type": "code",
   "execution_count": 134,
   "id": "f635fbea",
   "metadata": {},
   "outputs": [
    {
     "data": {
      "text/html": [
       "<style type=\"text/css\">\n",
       "</style>\n",
       "<table id=\"T_6ecac\">\n",
       "  <thead>\n",
       "    <tr>\n",
       "      <th id=\"T_6ecac_level0_col0\" class=\"col_heading level0 col0\" >OWN_CAR_AGE</th>\n",
       "      <th id=\"T_6ecac_level0_col1\" class=\"col_heading level0 col1\" >FLAG_MOBIL</th>\n",
       "      <th id=\"T_6ecac_level0_col2\" class=\"col_heading level0 col2\" >FLAG_EMP_PHONE</th>\n",
       "      <th id=\"T_6ecac_level0_col3\" class=\"col_heading level0 col3\" >FLAG_WORK_PHONE</th>\n",
       "      <th id=\"T_6ecac_level0_col4\" class=\"col_heading level0 col4\" >FLAG_CONT_MOBILE</th>\n",
       "      <th id=\"T_6ecac_level0_col5\" class=\"col_heading level0 col5\" >FLAG_PHONE</th>\n",
       "      <th id=\"T_6ecac_level0_col6\" class=\"col_heading level0 col6\" >FLAG_EMAIL</th>\n",
       "    </tr>\n",
       "  </thead>\n",
       "  <tbody>\n",
       "    <tr>\n",
       "      <td id=\"T_6ecac_row0_col0\" class=\"data row0 col0\" >nan</td>\n",
       "      <td id=\"T_6ecac_row0_col1\" class=\"data row0 col1\" >1</td>\n",
       "      <td id=\"T_6ecac_row0_col2\" class=\"data row0 col2\" >1</td>\n",
       "      <td id=\"T_6ecac_row0_col3\" class=\"data row0 col3\" >1</td>\n",
       "      <td id=\"T_6ecac_row0_col4\" class=\"data row0 col4\" >1</td>\n",
       "      <td id=\"T_6ecac_row0_col5\" class=\"data row0 col5\" >0</td>\n",
       "      <td id=\"T_6ecac_row0_col6\" class=\"data row0 col6\" >0</td>\n",
       "    </tr>\n",
       "    <tr>\n",
       "      <td id=\"T_6ecac_row1_col0\" class=\"data row1 col0\" >nan</td>\n",
       "      <td id=\"T_6ecac_row1_col1\" class=\"data row1 col1\" >1</td>\n",
       "      <td id=\"T_6ecac_row1_col2\" class=\"data row1 col2\" >1</td>\n",
       "      <td id=\"T_6ecac_row1_col3\" class=\"data row1 col3\" >0</td>\n",
       "      <td id=\"T_6ecac_row1_col4\" class=\"data row1 col4\" >1</td>\n",
       "      <td id=\"T_6ecac_row1_col5\" class=\"data row1 col5\" >0</td>\n",
       "      <td id=\"T_6ecac_row1_col6\" class=\"data row1 col6\" >0</td>\n",
       "    </tr>\n",
       "    <tr>\n",
       "      <td id=\"T_6ecac_row2_col0\" class=\"data row2 col0\" >9.000000</td>\n",
       "      <td id=\"T_6ecac_row2_col1\" class=\"data row2 col1\" >1</td>\n",
       "      <td id=\"T_6ecac_row2_col2\" class=\"data row2 col2\" >1</td>\n",
       "      <td id=\"T_6ecac_row2_col3\" class=\"data row2 col3\" >1</td>\n",
       "      <td id=\"T_6ecac_row2_col4\" class=\"data row2 col4\" >1</td>\n",
       "      <td id=\"T_6ecac_row2_col5\" class=\"data row2 col5\" >0</td>\n",
       "      <td id=\"T_6ecac_row2_col6\" class=\"data row2 col6\" >0</td>\n",
       "    </tr>\n",
       "    <tr>\n",
       "      <td id=\"T_6ecac_row3_col0\" class=\"data row3 col0\" >nan</td>\n",
       "      <td id=\"T_6ecac_row3_col1\" class=\"data row3 col1\" >1</td>\n",
       "      <td id=\"T_6ecac_row3_col2\" class=\"data row3 col2\" >0</td>\n",
       "      <td id=\"T_6ecac_row3_col3\" class=\"data row3 col3\" >0</td>\n",
       "      <td id=\"T_6ecac_row3_col4\" class=\"data row3 col4\" >1</td>\n",
       "      <td id=\"T_6ecac_row3_col5\" class=\"data row3 col5\" >1</td>\n",
       "      <td id=\"T_6ecac_row3_col6\" class=\"data row3 col6\" >0</td>\n",
       "    </tr>\n",
       "    <tr>\n",
       "      <td id=\"T_6ecac_row4_col0\" class=\"data row4 col0\" >nan</td>\n",
       "      <td id=\"T_6ecac_row4_col1\" class=\"data row4 col1\" >1</td>\n",
       "      <td id=\"T_6ecac_row4_col2\" class=\"data row4 col2\" >1</td>\n",
       "      <td id=\"T_6ecac_row4_col3\" class=\"data row4 col3\" >0</td>\n",
       "      <td id=\"T_6ecac_row4_col4\" class=\"data row4 col4\" >1</td>\n",
       "      <td id=\"T_6ecac_row4_col5\" class=\"data row4 col5\" >1</td>\n",
       "      <td id=\"T_6ecac_row4_col6\" class=\"data row4 col6\" >0</td>\n",
       "    </tr>\n",
       "  </tbody>\n",
       "</table>\n"
      ],
      "text/plain": [
       "<pandas.io.formats.style.Styler at 0x7f99d86b46d0>"
      ]
     },
     "metadata": {},
     "output_type": "display_data"
    }
   ],
   "source": [
    "df.iloc[:5,[next(iterator) for i in range(7)]].style.hide(axis='index')"
   ]
  },
  {
   "cell_type": "markdown",
   "id": "5e2cd55e",
   "metadata": {},
   "source": [
    "**Further Checking**\n",
    "- Finally, we found the first NaNs. In this case, they are not necessarily missing values. They are expected if the applicant does not own a car. So, checking if there are any NaNs when ```FLAG_OWN_CAR``` is \"Y\" is interesting."
   ]
  },
  {
   "cell_type": "code",
   "execution_count": 171,
   "id": "8dca2b5d",
   "metadata": {},
   "outputs": [
    {
     "name": "stdout",
     "output_type": "stream",
     "text": [
      "Applications flagged as owning a car and not informing car age: 4.\n"
     ]
    }
   ],
   "source": [
    "print('Applications flagged as owning a car and not informing car age: '\n",
    "      f'{df_applications[\"OWN_CAR_AGE\"][df_applications[\"FLAG_OWN_CAR\"]==\"Y\"].isna().sum()}.')"
   ]
  },
  {
   "cell_type": "markdown",
   "id": "f041cc6a",
   "metadata": {},
   "source": [
    "**Highlights**\n",
    "\n",
    "- ```OWN_CAR_AGE``` and ```FLAG_OWN_CAR``` may be transformed into one column. As there are only 4 NaNs, they also might be considered as \"0\"."
   ]
  },
  {
   "cell_type": "code",
   "execution_count": 172,
   "id": "dcacd276",
   "metadata": {},
   "outputs": [
    {
     "data": {
      "text/html": [
       "<style type=\"text/css\">\n",
       "</style>\n",
       "<table id=\"T_c8eac\">\n",
       "  <thead>\n",
       "    <tr>\n",
       "      <th id=\"T_c8eac_level0_col0\" class=\"col_heading level0 col0\" >OCCUPATION_TYPE</th>\n",
       "      <th id=\"T_c8eac_level0_col1\" class=\"col_heading level0 col1\" >CNT_FAM_MEMBERS</th>\n",
       "      <th id=\"T_c8eac_level0_col2\" class=\"col_heading level0 col2\" >REGION_RATING_CLIENT</th>\n",
       "      <th id=\"T_c8eac_level0_col3\" class=\"col_heading level0 col3\" >REGION_RATING_CLIENT_W_CITY</th>\n",
       "      <th id=\"T_c8eac_level0_col4\" class=\"col_heading level0 col4\" >WEEKDAY_APPR_PROCESS_START</th>\n",
       "      <th id=\"T_c8eac_level0_col5\" class=\"col_heading level0 col5\" >HOUR_APPR_PROCESS_START</th>\n",
       "      <th id=\"T_c8eac_level0_col6\" class=\"col_heading level0 col6\" >REG_REGION_NOT_LIVE_REGION</th>\n",
       "    </tr>\n",
       "  </thead>\n",
       "  <tbody>\n",
       "    <tr>\n",
       "      <td id=\"T_c8eac_row0_col0\" class=\"data row0 col0\" >Core staff</td>\n",
       "      <td id=\"T_c8eac_row0_col1\" class=\"data row0 col1\" >1.000000</td>\n",
       "      <td id=\"T_c8eac_row0_col2\" class=\"data row0 col2\" >2</td>\n",
       "      <td id=\"T_c8eac_row0_col3\" class=\"data row0 col3\" >2</td>\n",
       "      <td id=\"T_c8eac_row0_col4\" class=\"data row0 col4\" >FRIDAY</td>\n",
       "      <td id=\"T_c8eac_row0_col5\" class=\"data row0 col5\" >17</td>\n",
       "      <td id=\"T_c8eac_row0_col6\" class=\"data row0 col6\" >0</td>\n",
       "    </tr>\n",
       "    <tr>\n",
       "      <td id=\"T_c8eac_row1_col0\" class=\"data row1 col0\" >High skill tech staff</td>\n",
       "      <td id=\"T_c8eac_row1_col1\" class=\"data row1 col1\" >2.000000</td>\n",
       "      <td id=\"T_c8eac_row1_col2\" class=\"data row1 col2\" >2</td>\n",
       "      <td id=\"T_c8eac_row1_col3\" class=\"data row1 col3\" >2</td>\n",
       "      <td id=\"T_c8eac_row1_col4\" class=\"data row1 col4\" >MONDAY</td>\n",
       "      <td id=\"T_c8eac_row1_col5\" class=\"data row1 col5\" >11</td>\n",
       "      <td id=\"T_c8eac_row1_col6\" class=\"data row1 col6\" >0</td>\n",
       "    </tr>\n",
       "    <tr>\n",
       "      <td id=\"T_c8eac_row2_col0\" class=\"data row2 col0\" >Managers</td>\n",
       "      <td id=\"T_c8eac_row2_col1\" class=\"data row2 col1\" >2.000000</td>\n",
       "      <td id=\"T_c8eac_row2_col2\" class=\"data row2 col2\" >2</td>\n",
       "      <td id=\"T_c8eac_row2_col3\" class=\"data row2 col3\" >2</td>\n",
       "      <td id=\"T_c8eac_row2_col4\" class=\"data row2 col4\" >THURSDAY</td>\n",
       "      <td id=\"T_c8eac_row2_col5\" class=\"data row2 col5\" >15</td>\n",
       "      <td id=\"T_c8eac_row2_col6\" class=\"data row2 col6\" >0</td>\n",
       "    </tr>\n",
       "    <tr>\n",
       "      <td id=\"T_c8eac_row3_col0\" class=\"data row3 col0\" >nan</td>\n",
       "      <td id=\"T_c8eac_row3_col1\" class=\"data row3 col1\" >2.000000</td>\n",
       "      <td id=\"T_c8eac_row3_col2\" class=\"data row3 col2\" >1</td>\n",
       "      <td id=\"T_c8eac_row3_col3\" class=\"data row3 col3\" >1</td>\n",
       "      <td id=\"T_c8eac_row3_col4\" class=\"data row3 col4\" >TUESDAY</td>\n",
       "      <td id=\"T_c8eac_row3_col5\" class=\"data row3 col5\" >9</td>\n",
       "      <td id=\"T_c8eac_row3_col6\" class=\"data row3 col6\" >0</td>\n",
       "    </tr>\n",
       "    <tr>\n",
       "      <td id=\"T_c8eac_row4_col0\" class=\"data row4 col0\" >Laborers</td>\n",
       "      <td id=\"T_c8eac_row4_col1\" class=\"data row4 col1\" >1.000000</td>\n",
       "      <td id=\"T_c8eac_row4_col2\" class=\"data row4 col2\" >2</td>\n",
       "      <td id=\"T_c8eac_row4_col3\" class=\"data row4 col3\" >2</td>\n",
       "      <td id=\"T_c8eac_row4_col4\" class=\"data row4 col4\" >FRIDAY</td>\n",
       "      <td id=\"T_c8eac_row4_col5\" class=\"data row4 col5\" >16</td>\n",
       "      <td id=\"T_c8eac_row4_col6\" class=\"data row4 col6\" >0</td>\n",
       "    </tr>\n",
       "  </tbody>\n",
       "</table>\n"
      ],
      "text/plain": [
       "<pandas.io.formats.style.Styler at 0x7f99d8826b00>"
      ]
     },
     "execution_count": 172,
     "metadata": {},
     "output_type": "execute_result"
    }
   ],
   "source": [
    "df.iloc[:5,[next(iterator) for i in range(7)]].style.hide(axis='index')"
   ]
  },
  {
   "cell_type": "code",
   "execution_count": 176,
   "id": "a5861808",
   "metadata": {},
   "outputs": [
    {
     "data": {
      "text/plain": [
       "TUESDAY      43046\n",
       "WEDNESDAY    41418\n",
       "MONDAY       40709\n",
       "THURSDAY     40616\n",
       "FRIDAY       40202\n",
       "SATURDAY     27083\n",
       "SUNDAY       12934\n",
       "Name: WEEKDAY_APPR_PROCESS_START, dtype: int64"
      ]
     },
     "execution_count": 176,
     "metadata": {},
     "output_type": "execute_result"
    }
   ],
   "source": [
    "df_applications['WEEKDAY_APPR_PROCESS_START'].value_counts()"
   ]
  },
  {
   "cell_type": "code",
   "execution_count": 177,
   "id": "0d7dc459",
   "metadata": {},
   "outputs": [
    {
     "data": {
      "text/html": [
       "<style type=\"text/css\">\n",
       "</style>\n",
       "<table id=\"T_49fce\">\n",
       "  <thead>\n",
       "    <tr>\n",
       "      <th id=\"T_49fce_level0_col0\" class=\"col_heading level0 col0\" >REG_REGION_NOT_WORK_REGION</th>\n",
       "      <th id=\"T_49fce_level0_col1\" class=\"col_heading level0 col1\" >LIVE_REGION_NOT_WORK_REGION</th>\n",
       "      <th id=\"T_49fce_level0_col2\" class=\"col_heading level0 col2\" >REG_CITY_NOT_LIVE_CITY</th>\n",
       "      <th id=\"T_49fce_level0_col3\" class=\"col_heading level0 col3\" >REG_CITY_NOT_WORK_CITY</th>\n",
       "      <th id=\"T_49fce_level0_col4\" class=\"col_heading level0 col4\" >LIVE_CITY_NOT_WORK_CITY</th>\n",
       "      <th id=\"T_49fce_level0_col5\" class=\"col_heading level0 col5\" >ORGANIZATION_TYPE</th>\n",
       "      <th id=\"T_49fce_level0_col6\" class=\"col_heading level0 col6\" >EXT_SOURCE_1</th>\n",
       "    </tr>\n",
       "  </thead>\n",
       "  <tbody>\n",
       "    <tr>\n",
       "      <td id=\"T_49fce_row0_col0\" class=\"data row0 col0\" >0</td>\n",
       "      <td id=\"T_49fce_row0_col1\" class=\"data row0 col1\" >0</td>\n",
       "      <td id=\"T_49fce_row0_col2\" class=\"data row0 col2\" >1</td>\n",
       "      <td id=\"T_49fce_row0_col3\" class=\"data row0 col3\" >1</td>\n",
       "      <td id=\"T_49fce_row0_col4\" class=\"data row0 col4\" >0</td>\n",
       "      <td id=\"T_49fce_row0_col5\" class=\"data row0 col5\" >Trade: type 2</td>\n",
       "      <td id=\"T_49fce_row0_col6\" class=\"data row0 col6\" >nan</td>\n",
       "    </tr>\n",
       "    <tr>\n",
       "      <td id=\"T_49fce_row1_col0\" class=\"data row1 col0\" >0</td>\n",
       "      <td id=\"T_49fce_row1_col1\" class=\"data row1 col1\" >0</td>\n",
       "      <td id=\"T_49fce_row1_col2\" class=\"data row1 col2\" >0</td>\n",
       "      <td id=\"T_49fce_row1_col3\" class=\"data row1 col3\" >0</td>\n",
       "      <td id=\"T_49fce_row1_col4\" class=\"data row1 col4\" >0</td>\n",
       "      <td id=\"T_49fce_row1_col5\" class=\"data row1 col5\" >Business Entity Type 3</td>\n",
       "      <td id=\"T_49fce_row1_col6\" class=\"data row1 col6\" >0.541385</td>\n",
       "    </tr>\n",
       "    <tr>\n",
       "      <td id=\"T_49fce_row2_col0\" class=\"data row2 col0\" >0</td>\n",
       "      <td id=\"T_49fce_row2_col1\" class=\"data row2 col1\" >0</td>\n",
       "      <td id=\"T_49fce_row2_col2\" class=\"data row2 col2\" >0</td>\n",
       "      <td id=\"T_49fce_row2_col3\" class=\"data row2 col3\" >0</td>\n",
       "      <td id=\"T_49fce_row2_col4\" class=\"data row2 col4\" >0</td>\n",
       "      <td id=\"T_49fce_row2_col5\" class=\"data row2 col5\" >Business Entity Type 1</td>\n",
       "      <td id=\"T_49fce_row2_col6\" class=\"data row2 col6\" >nan</td>\n",
       "    </tr>\n",
       "    <tr>\n",
       "      <td id=\"T_49fce_row3_col0\" class=\"data row3 col0\" >0</td>\n",
       "      <td id=\"T_49fce_row3_col1\" class=\"data row3 col1\" >0</td>\n",
       "      <td id=\"T_49fce_row3_col2\" class=\"data row3 col2\" >0</td>\n",
       "      <td id=\"T_49fce_row3_col3\" class=\"data row3 col3\" >0</td>\n",
       "      <td id=\"T_49fce_row3_col4\" class=\"data row3 col4\" >0</td>\n",
       "      <td id=\"T_49fce_row3_col5\" class=\"data row3 col5\" >XNA</td>\n",
       "      <td id=\"T_49fce_row3_col6\" class=\"data row3 col6\" >nan</td>\n",
       "    </tr>\n",
       "    <tr>\n",
       "      <td id=\"T_49fce_row4_col0\" class=\"data row4 col0\" >0</td>\n",
       "      <td id=\"T_49fce_row4_col1\" class=\"data row4 col1\" >0</td>\n",
       "      <td id=\"T_49fce_row4_col2\" class=\"data row4 col2\" >0</td>\n",
       "      <td id=\"T_49fce_row4_col3\" class=\"data row4 col3\" >0</td>\n",
       "      <td id=\"T_49fce_row4_col4\" class=\"data row4 col4\" >0</td>\n",
       "      <td id=\"T_49fce_row4_col5\" class=\"data row4 col5\" >Transport: type 4</td>\n",
       "      <td id=\"T_49fce_row4_col6\" class=\"data row4 col6\" >0.592466</td>\n",
       "    </tr>\n",
       "  </tbody>\n",
       "</table>\n"
      ],
      "text/plain": [
       "<pandas.io.formats.style.Styler at 0x7f982d762e30>"
      ]
     },
     "execution_count": 177,
     "metadata": {},
     "output_type": "execute_result"
    }
   ],
   "source": [
    "df.iloc[:5,[next(iterator) for i in range(7)]].style.hide(axis='index')"
   ]
  },
  {
   "cell_type": "code",
   "execution_count": 180,
   "id": "d2dde9a9",
   "metadata": {},
   "outputs": [
    {
     "data": {
      "text/plain": [
       "Business Entity Type 3    54495\n",
       "XNA                       44399\n",
       "Self-employed             30722\n",
       "Other                     13350\n",
       "Medicine                   8982\n",
       "Business Entity Type 2     8433\n",
       "Government                 8330\n",
       "School                     7078\n",
       "Trade: type 7              6258\n",
       "Kindergarten               5448\n",
       "Construction               5389\n",
       "Business Entity Type 1     4859\n",
       "Transport: type 4          4277\n",
       "Trade: type 3              2767\n",
       "Industry: type 9           2695\n",
       "Industry: type 3           2627\n",
       "Security                   2594\n",
       "Housing                    2368\n",
       "Industry: type 11          2138\n",
       "Military                   2114\n",
       "Bank                       1980\n",
       "Agriculture                1960\n",
       "Police                     1866\n",
       "Transport: type 2          1745\n",
       "Postal                     1719\n",
       "Security Ministries        1565\n",
       "Trade: type 2              1506\n",
       "Restaurant                 1478\n",
       "Services                   1264\n",
       "University                 1057\n",
       "Industry: type 7           1037\n",
       "Transport: type 3           927\n",
       "Industry: type 1            834\n",
       "Hotel                       778\n",
       "Electricity                 736\n",
       "Industry: type 4            718\n",
       "Trade: type 6               504\n",
       "Industry: type 5            492\n",
       "Insurance                   469\n",
       "Telecom                     467\n",
       "Emergency                   443\n",
       "Industry: type 2            367\n",
       "Advertising                 332\n",
       "Realtor                     328\n",
       "Culture                     306\n",
       "Industry: type 12           282\n",
       "Trade: type 1               272\n",
       "Mobile                      254\n",
       "Legal Services              235\n",
       "Cleaning                    208\n",
       "Transport: type 1           153\n",
       "Industry: type 10            87\n",
       "Industry: type 6             86\n",
       "Religion                     67\n",
       "Trade: type 4                53\n",
       "Industry: type 13            49\n",
       "Trade: type 5                41\n",
       "Industry: type 8             20\n",
       "Name: ORGANIZATION_TYPE, dtype: int64"
      ]
     },
     "execution_count": 180,
     "metadata": {},
     "output_type": "execute_result"
    }
   ],
   "source": [
    "df_applications['ORGANIZATION_TYPE'].value_counts(dropna=False)"
   ]
  },
  {
   "cell_type": "code",
   "execution_count": null,
   "id": "ac3b18a8",
   "metadata": {},
   "outputs": [],
   "source": []
  }
 ],
 "metadata": {
  "kernelspec": {
   "display_name": "Python [conda env:ml-credit-default-risk] *",
   "language": "python",
   "name": "conda-env-ml-credit-default-risk-py"
  },
  "language_info": {
   "codemirror_mode": {
    "name": "ipython",
    "version": 3
   },
   "file_extension": ".py",
   "mimetype": "text/x-python",
   "name": "python",
   "nbconvert_exporter": "python",
   "pygments_lexer": "ipython3",
   "version": "3.10.4"
  }
 },
 "nbformat": 4,
 "nbformat_minor": 5
}
